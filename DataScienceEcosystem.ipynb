{
  "nbformat": 4,
  "nbformat_minor": 0,
  "metadata": {
    "colab": {
      "provenance": [],
      "collapsed_sections": [
        "qPgZnBALzonA"
      ],
      "authorship_tag": "ABX9TyPt5CNv4ABSBN0ohTnXWwo3",
      "include_colab_link": true
    },
    "kernelspec": {
      "name": "python3",
      "display_name": "Python 3"
    },
    "language_info": {
      "name": "python"
    }
  },
  "cells": [
    {
      "cell_type": "markdown",
      "metadata": {
        "id": "view-in-github",
        "colab_type": "text"
      },
      "source": [
        "<a href=\"https://colab.research.google.com/github/ksong1009/Hello_world/blob/main/DataScienceEcosystem.ipynb\" target=\"_parent\"><img src=\"https://colab.research.google.com/assets/colab-badge.svg\" alt=\"Open In Colab\"/></a>"
      ]
    },
    {
      "cell_type": "code",
      "execution_count": null,
      "metadata": {
        "id": "VUmS4aEkxY0-"
      },
      "outputs": [],
      "source": []
    },
    {
      "cell_type": "markdown",
      "source": [
        "# Data Science Tools and Ecosystem"
      ],
      "metadata": {
        "id": "7HdylFlOxmAI"
      }
    },
    {
      "cell_type": "markdown",
      "source": [
        "## Author:\n",
        "Karen Song"
      ],
      "metadata": {
        "id": "tNA8GRLUPWTV"
      }
    },
    {
      "cell_type": "code",
      "source": [
        "#This a simple arithmetic expression to mutiply then add integers\n",
        "\n",
        "a=(3*4)+5\n",
        "print(a)"
      ],
      "metadata": {
        "colab": {
          "base_uri": "https://localhost:8080/"
        },
        "id": "w6t9_0NLL-j1",
        "outputId": "115da04a-5fb1-4eb7-d4c0-0d6ff5ce5129"
      },
      "execution_count": null,
      "outputs": [
        {
          "output_type": "stream",
          "name": "stdout",
          "text": [
            "17\n"
          ]
        }
      ]
    },
    {
      "cell_type": "markdown",
      "source": [
        "### Below are a few examples of evaluating arithmetic expressions in Python: addition, subtraction and multiplication."
      ],
      "metadata": {
        "id": "7OHiJCRsKmC4"
      }
    },
    {
      "cell_type": "code",
      "source": [
        "#This will convert 200 minutes to hours by diving by 60\n",
        "\n",
        "b=round(200/60,2)\n",
        "print(b)"
      ],
      "metadata": {
        "colab": {
          "base_uri": "https://localhost:8080/"
        },
        "id": "O6WSd9l8Mt9G",
        "outputId": "85b12a09-6009-41da-d23b-0397893cb132"
      },
      "execution_count": null,
      "outputs": [
        {
          "output_type": "stream",
          "name": "stdout",
          "text": [
            "3.33\n"
          ]
        }
      ]
    },
    {
      "cell_type": "markdown",
      "source": [],
      "metadata": {
        "id": "YxU4SdP5_-LU"
      }
    },
    {
      "cell_type": "markdown",
      "source": [
        "**Objectives:**\n",
        "\n",
        "\n",
        "*   List popular languages for Data Science\n",
        "\n",
        "*   List Data Science Tools\n",
        "\n",
        "*   List some of the commonly used libraries used by Data Scientists\n",
        "\n"
      ],
      "metadata": {
        "id": "ElxKJbkQNarX"
      }
    },
    {
      "cell_type": "markdown",
      "source": [
        "# In this notebook, Data Science Tools and Ecosystem are summarized."
      ],
      "metadata": {
        "id": "qPgZnBALzonA"
      }
    },
    {
      "cell_type": "markdown",
      "source": [
        "| Data Science Tools   |\n",
        "| -------- |\n",
        "| Jupyter Notebook  |\n",
        "| Spyder |\n",
        "| VScode    |"
      ],
      "metadata": {
        "id": "I7Ik2oiwIXQu"
      }
    },
    {
      "cell_type": "markdown",
      "source": [
        "# Some of the popular languages that Data Scientists use are:\n",
        "# ordered list: Python, R and SQL"
      ],
      "metadata": {
        "id": "qPMM-6eb0nBA"
      }
    },
    {
      "cell_type": "markdown",
      "source": [
        "# Some of the commonly used libraries used by Data Scientists include:\n",
        "# ordered list:ggplot2, datasets and GGally"
      ],
      "metadata": {
        "id": "1dbhDfxI1lpl"
      }
    }
  ]
}